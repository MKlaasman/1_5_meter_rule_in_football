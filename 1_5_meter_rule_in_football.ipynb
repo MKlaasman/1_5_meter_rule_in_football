{
 "cells": [
  {
   "cell_type": "markdown",
   "metadata": {},
   "source": [
    "## The 1.5 meter rule in football"
   ]
  },
  {
   "cell_type": "markdown",
   "metadata": {},
   "source": [
    "#### Notebook to calculate number of occurences of players being closer than 1.5 meters from each other. Calculated for every second of the match.\n",
    "Special thanks to Metrica Sports for providing the data and Friends of Tracking (especially Laurie Shaw) for providing the code base. "
   ]
  },
  {
   "cell_type": "code",
   "execution_count": null,
   "metadata": {},
   "outputs": [],
   "source": [
    "cd LaurieOnTracking"
   ]
  },
  {
   "cell_type": "code",
   "execution_count": 2,
   "metadata": {},
   "outputs": [
    {
     "name": "stdout",
     "output_type": "stream",
     "text": [
      "Reading team: home\n",
      "Reading team: away\n"
     ]
    }
   ],
   "source": [
    "import Metrica_IO as mio\n",
    "import Metrica_Viz as mviz\n",
    "import Metrica_Velocities as mvel\n",
    "import matplotlib.pyplot as plt\n",
    "import numpy as np\n",
    "import pandas as pd\n",
    "# set up initial path to data\n",
    "DATADIR = '/PATH/TO/WHERE/YOU/SAVED/THE/SAMPLE/DATA'\n",
    "game_id = 2 # let's look at sample match 2\n",
    "\n",
    "# read in the event data\n",
    "events = mio.read_event_data(DATADIR,game_id)\n",
    "\n",
    "# read in tracking data\n",
    "tracking_home = mio.tracking_data(DATADIR,game_id,'Home')\n",
    "tracking_away = mio.tracking_data(DATADIR,game_id,'Away')\n",
    "\n",
    "# Convert positions from metrica units to meters (note change in Metrica's coordinate system since the last lesson)\n",
    "tracking_home = mio.to_metric_coordinates(tracking_home)\n",
    "tracking_away = mio.to_metric_coordinates(tracking_away)\n",
    "events = mio.to_metric_coordinates(events)\n",
    "\n",
    "# reverse direction of play in the second half so that home team is always attacking from right->left\n",
    "tracking_home,tracking_away,events = mio.to_single_playing_direction(tracking_home,tracking_away,events)"
   ]
  },
  {
   "cell_type": "code",
   "execution_count": 3,
   "metadata": {},
   "outputs": [
    {
     "data": {
      "text/plain": [
       "Index(['Home_11_x', 'Home_11_y', 'Home_1_x', 'Home_1_y', 'Home_2_x',\n",
       "       'Home_2_y', 'Home_3_x', 'Home_3_y', 'Home_4_x', 'Home_4_y', 'Home_5_x',\n",
       "       'Home_5_y', 'Home_6_x', 'Home_6_y', 'Home_7_x', 'Home_7_y', 'Home_8_x',\n",
       "       'Home_8_y', 'Home_9_x', 'Home_9_y', 'Home_10_x', 'Home_10_y',\n",
       "       'Home_12_x', 'Home_12_y', 'Home_13_x', 'Home_13_y', 'Home_14_x',\n",
       "       'Home_14_y', 'Away_25_x', 'Away_25_y', 'Away_15_x', 'Away_15_y',\n",
       "       'Away_16_x', 'Away_16_y', 'Away_17_x', 'Away_17_y', 'Away_18_x',\n",
       "       'Away_18_y', 'Away_19_x', 'Away_19_y', 'Away_20_x', 'Away_20_y',\n",
       "       'Away_21_x', 'Away_21_y', 'Away_22_x', 'Away_22_y', 'Away_23_x',\n",
       "       'Away_23_y', 'Away_24_x', 'Away_24_y', 'Away_26_x', 'Away_26_y'],\n",
       "      dtype='object')"
      ]
     },
     "execution_count": 3,
     "metadata": {},
     "output_type": "execute_result"
    }
   ],
   "source": [
    "df_tracking = pd.concat([tracking_home,tracking_away], axis=1, sort=False)\n",
    "df_tracking = df_tracking.loc[:,~df_tracking.columns.duplicated()]\n",
    "df_tracking = df_tracking.drop(columns=['Period', 'Time [s]', 'ball_x','ball_y'])\n",
    "df_tracking.columns"
   ]
  },
  {
   "cell_type": "code",
   "execution_count": 4,
   "metadata": {},
   "outputs": [
    {
     "data": {
      "application/vnd.jupyter.widget-view+json": {
       "model_id": "9179b3f0127743659438eed4ac43624c",
       "version_major": 2,
       "version_minor": 0
      },
      "text/plain": [
       "HBox(children=(IntProgress(value=0, max=141156), HTML(value='')))"
      ]
     },
     "metadata": {},
     "output_type": "display_data"
    },
    {
     "name": "stdout",
     "output_type": "stream",
     "text": [
      "\n",
      "Total number of connections during the game: 2612\n",
      "Max number of connections at a single moment: 21\n"
     ]
    }
   ],
   "source": [
    "from tqdm.notebook import tqdm\n",
    "from scipy.spatial import distance\n",
    "df = df_tracking\n",
    "number_of_connections = 0\n",
    "max_connections_in_a_single_frame = 0\n",
    "index_max_connections = 0\n",
    "for index, row in tqdm(df.iterrows(), total = len(df)):\n",
    "    # Delete the players (substitutes) with nan values: \n",
    "    row = row.dropna()\n",
    "    if ((index/25) % 2) == 1: # Loop through all the data and calculate for every second. (25 fps)\n",
    "            list_of_connections = []\n",
    "            for i in range(0, len(row),2):\n",
    "                list_of_other_players = list(range(0, len(row),2))\n",
    "                for connection in list_of_connections:\n",
    "                    #Deletes players from list, that already established a connection with this player.\n",
    "                    if connection[0] == i:\n",
    "                        list_of_other_players.remove(connection[1])     \n",
    "                for i2 in list_of_other_players:\n",
    "                    temp_distance_nodes = abs(distance.euclidean((row[int(i/2)],row[(int(i/2))+1]), (row[int(i2/2)],row[int((i2/2))+1]) ))\n",
    "                    if (temp_distance_nodes < 1.5) & (not(i==i2)):\n",
    "                        list_of_connections.append([i2,i]) \n",
    "                #For fun: Maximum number of connections at 1 moment:\n",
    "                if len(list_of_connections) > max_connections_in_a_single_frame:\n",
    "                    max_connections_in_a_single_frame = len(list_of_connections)\n",
    "                    index_max_connections = index\n",
    "            number_of_connections += len(list_of_connections)              \n",
    "            \n",
    "print('Total number of connections during the game: ' + str(number_of_connections)) \n",
    "print('Max number of connections at a single moment: ' + str(max_connections_in_a_single_frame))  "
   ]
  },
  {
   "cell_type": "code",
   "execution_count": 5,
   "metadata": {},
   "outputs": [
    {
     "data": {
      "text/plain": [
       "(<Figure size 864x576 with 1 Axes>,\n",
       " <matplotlib.axes._subplots.AxesSubplot at 0x1f1d8b11c08>)"
      ]
     },
     "execution_count": 5,
     "metadata": {},
     "output_type": "execute_result"
    },
    {
     "data": {
      "image/png": "[encoded data removed]",
      "text/plain": [
       "<Figure size 864x576 with 1 Axes>"
      ]
     },
     "metadata": {},
     "output_type": "display_data"
    }
   ],
   "source": [
    "#Plot frame in which there are the most connections (less than 1.5 meters)\n",
    "mviz.plot_frame( tracking_home.loc[index_max_connections], tracking_away.loc[index_max_connections],  annotate=True)"
   ]
  }
 ],
 "metadata": {
  "kernelspec": {
   "display_name": "Python 3",
   "language": "python",
   "name": "python3"
  },
  "language_info": {
   "codemirror_mode": {
    "name": "ipython",
    "version": 3
   },
   "file_extension": ".py",
   "mimetype": "text/x-python",
   "name": "python",
   "nbconvert_exporter": "python",
   "pygments_lexer": "ipython3",
   "version": "3.7.4"
  }
 },
 "nbformat": 4,
 "nbformat_minor": 2
}
